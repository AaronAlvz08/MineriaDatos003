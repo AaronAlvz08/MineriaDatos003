{
 "cells": [
  {
   "cell_type": "markdown",
   "id": "lightweight-production",
   "metadata": {},
   "source": [
    "# EJERCICIOS PRACTICOS\n",
    "\n",
    "## ~ Ejercicio 1:\n",
    "Realiza una variable con tu matricula y realiza una secuencia de imprimir con tu nombre y tu matricula concatenados."
   ]
  },
  {
   "cell_type": "code",
   "execution_count": 95,
   "id": "endangered-hampton",
   "metadata": {},
   "outputs": [
    {
     "name": "stdout",
     "output_type": "stream",
     "text": [
      "Aaron Emmanuel Garza Alvarez 1723466\n"
     ]
    }
   ],
   "source": [
    "mat = 1723466\n",
    "nom = \"Aaron Emmanuel Garza Alvarez\"\n",
    "print (nom, mat)"
   ]
  },
  {
   "cell_type": "markdown",
   "id": "incident-savage",
   "metadata": {},
   "source": [
    "## ~ Ejercicio 2:\n",
    "Pidiendo el input del usuario pide dos números y crea una pequeña calculadora con los operadores básicos de suma, resta, multiplicación, división, y exponente.\n",
    "\n",
    "Utilizando el loop de while"
   ]
  },
  {
   "cell_type": "code",
   "execution_count": null,
   "id": "dated-logistics",
   "metadata": {},
   "outputs": [],
   "source": [
    "i = 1\n",
    "while i != 2:\n",
    "    num1 = float(input(\"Ingrese un numero: \"))\n",
    "    num2 = float(input(\"Ingrese un numero: \"))\n",
    "    opcion = int(input(\"Ingrese la opcion deseada\\n1.-Suma\\n2.-Resta\\n3.-División\\n4.-Multiplicacion\\n5.-Exponente \"))\n",
    "    if opcion == 1:\n",
    "        print(\"La suma de los datos ingresados es: \",num1 + num2)\n",
    "    elif opcion == 2:\n",
    "            print(\"La resta de los datos es: \", num1-num2)\n",
    "    elif opcion == 3:\n",
    "        if num1 == 0 or num2 == 0:\n",
    "            print(\"La division no puede ser efectuada revise la entrada\")\n",
    "        else:\n",
    "            print(\"La división de los datos es: \", num1/num2)\n",
    "    elif opcion == 4:\n",
    "        print(\"La multiplicación de los datos es: \", num1*num2)\n",
    "    else:\n",
    "        print(\"El exponente de los datos es:\", num1**num2)\n",
    "    i = int(input(\"Desea realizar otra opcion [1.- Si | 2.- No]\"))\n",
    "print(\"Adiós\")"
   ]
  },
  {
   "cell_type": "markdown",
   "id": "widespread-congo",
   "metadata": {},
   "source": [
    "## ~ Ejercicio 3:\n",
    "Con loop while o for, realiza una lista de 10 numeros multiplos de 3, y después realiza una función de loop que sume todos los números dentro del arreglo."
   ]
  },
  {
   "cell_type": "code",
   "execution_count": 13,
   "id": "decreased-tuesday",
   "metadata": {},
   "outputs": [
    {
     "name": "stdout",
     "output_type": "stream",
     "text": [
      "La lista es:\n",
      "  [3, 6, 9, 12, 15, 18, 21, 24, 27, 30]\n",
      "La suma de la lista es:  165\n"
     ]
    }
   ],
   "source": [
    "lista1 = []\n",
    "for i in range(0,10):\n",
    "    lista1.append((i+1)*3)\n",
    "print(\"La lista es:\\n \",lista1)\n",
    "def SumList(lista):\n",
    "    sum = 0\n",
    "    for i in range(0,10):\n",
    "        sum = sum + lista[i]\n",
    "    return sum\n",
    "print(\"La suma de la lista es: \",SumList(lista1))"
   ]
  },
  {
   "cell_type": "markdown",
   "id": "opening-colony",
   "metadata": {},
   "source": [
    "## ~ Ejericio 4:\n",
    "Con una función de if else, revisar si un número es par o es impar.\n",
    "Con una función de if else, revisar si un número es primo o no."
   ]
  },
  {
   "cell_type": "code",
   "execution_count": 46,
   "id": "recorded-natural",
   "metadata": {},
   "outputs": [
    {
     "name": "stdout",
     "output_type": "stream",
     "text": [
      "Ingresa un dato: 89\n",
      "El numero  89  es primo\n",
      "El numero  89  es impar\n"
     ]
    }
   ],
   "source": [
    "valid = 0\n",
    "numero = int(input(\"Ingresa un dato: \")) \n",
    "if numero == 1 or numero == 0:\n",
    "    print(\"Prueba con otros numeros\")\n",
    "    valid = 1\n",
    "else:\n",
    "    for i in range(1,numero+1):\n",
    "        if (numero%i) == 0:\n",
    "            valid = valid + 1\n",
    "if valid == 2:\n",
    "    print(\"El numero \",numero,\" es primo\")\n",
    "else:\n",
    "    print(\"El numero \",numero,\" no es primo\")\n",
    "if numero%2 == 0:\n",
    "    print(\"El numero \",numero, \"es par\")\n",
    "else: \n",
    "    print(\"El numero \",numero,\" es impar\")"
   ]
  },
  {
   "cell_type": "markdown",
   "id": "massive-bracelet",
   "metadata": {},
   "source": [
    "## ~ Ejercicio 5\n",
    "Utilizando diferentes clases en python, crea una calculadora con los operadores básicos de suma, resta, multiplicación, división, y exponente.\n",
    "\n",
    "Funciones matemáticas en la librería de math en python:"
   ]
  },
  {
   "cell_type": "code",
   "execution_count": 144,
   "id": "center-single",
   "metadata": {},
   "outputs": [
    {
     "name": "stdout",
     "output_type": "stream",
     "text": [
      "Ingrese un numero: 3\n",
      "Ingrese un numero: 3\n",
      "Ingrese la opcion deseada\n",
      "1.-Suma\n",
      "2.-Resta\n",
      "3.-División\n",
      "4.-Multiplicacion\n",
      "5.-Exponente 5\n",
      "El exponente de los datos es: 27\n",
      "Desea realizar otra opcion 1.volver | 2.salir2\n",
      "Adiós\n"
     ]
    }
   ],
   "source": [
    "import math as m\n",
    "i = 1\n",
    "while i != 2:\n",
    "    num1 = float(input(\"Ingrese un numero: \"))\n",
    "    num2 = float(input(\"Ingrese un numero: \"))\n",
    "    opcion = int(input(\"Ingrese la opcion deseada\\n1.-Suma\\n2.-Resta\\n3.-División\\n4.-Multiplicacion\\n5.-Exponente \"))\n",
    "    if opcion == 1:\n",
    "        print(\"La suma de los datos ingresados es: \",m.fsum([num1,num2]))\n",
    "    elif opcion == 2:\n",
    "            print(\"La resta de los datos es: \",m.fsum([num1,-num2]))\n",
    "    elif opcion == 3:\n",
    "        if num1 == 0 or num2 == 0:\n",
    "            print(\"La division no puede ser efectuada revise la entrada\")\n",
    "        else:\n",
    "            print(\"La división de los datos es: \",m.modf(num1/num2)[1]+m.modf(num1/num2)[0])\n",
    "    elif opcion == 4:\n",
    "        print(\"La multiplicación de los datos es: \",m.prod([num1,num2]))\n",
    "    else:\n",
    "        print(\"El exponente de los datos es:\", m.prod([int(num1)]*int(num2)))\n",
    "    i = int(input(\"Desea realizar otra opcion 1.volver | 2.salir\"))\n",
    "print(\"Adiós\")"
   ]
  },
  {
   "cell_type": "markdown",
   "id": "frank-beijing",
   "metadata": {},
   "source": [
    "## EJERCICIOS CON TUPLAS\n",
    "\n",
    "1.- Crear una variable flotante, integer, boleana, compleja e imprimir el tipo de variable que es"
   ]
  },
  {
   "cell_type": "code",
   "execution_count": 151,
   "id": "improved-bradford",
   "metadata": {},
   "outputs": [
    {
     "name": "stdout",
     "output_type": "stream",
     "text": [
      "<class 'float'>\n",
      "<class 'int'>\n",
      "<class 'bool'>\n",
      "<class 'complex'>\n"
     ]
    }
   ],
   "source": [
    "a = 6.5\n",
    "print(type(a))\n",
    "b = 7\n",
    "print(type(b))\n",
    "c = True\n",
    "print(type(c))\n",
    "d = 2 + 7j\n",
    "print(type(d))"
   ]
  },
  {
   "cell_type": "markdown",
   "id": "stretch-listing",
   "metadata": {},
   "source": [
    "2.- Crear una tupla con valores enteros imprimir el primer y ultimo valor\n",
    "\n",
    "3.- Añadir 3 valores de string a la tupla\n",
    "\n",
    "4.- Verifica si una variable existe dentro de la tupla"
   ]
  },
  {
   "cell_type": "code",
   "execution_count": 169,
   "id": "hazardous-start",
   "metadata": {},
   "outputs": [
    {
     "name": "stdout",
     "output_type": "stream",
     "text": [
      "El primer numero es  1  y el ultimo es  67\n",
      "True\n"
     ]
    }
   ],
   "source": [
    "tupla = (1,2,3,4,5,6,53,67)\n",
    "print(\"El primer numero es \", tupla[0] ,\" y el ultimo es \",tupla[len(tupla)-1])\n",
    "tupla = (1,2,3,4,5,6,53,67,\"Mineria\",\"FCFM\",\"Actuaria\")\n",
    "print(\"FCFM\" in tupla)"
   ]
  },
  {
   "cell_type": "markdown",
   "id": "revised-nepal",
   "metadata": {},
   "source": [
    "## EJERCICIOS CON LISTAS\n",
    "1.- Crear una lista con 40 elementos aleatorios enteros.\n",
    "\n",
    "2.- Con una funcion (def) crear dos listas nuevas a partir de la lista creada por numeros aleatorios, en la cual en una esten los elementos pares, y en la otra los elementos impares.\n",
    "\n",
    "3.- Crear dos variables con la longitud de ambas listas nuevas e imprimir las variables.\n",
    "\n",
    "4.- Ordenar los elementos de la lista par de mayor a menor, y los de la lista impar de menor a mayor.\n",
    "\n",
    "5.- Utilizar al menos cuatro de las funciones de listas en python en la lista original de 40 elementos.\n"
   ]
  },
  {
   "cell_type": "code",
   "execution_count": 224,
   "id": "historic-wheat",
   "metadata": {},
   "outputs": [
    {
     "name": "stdout",
     "output_type": "stream",
     "text": [
      "La longitud de pares es:  21 \n",
      "La longitud de impares es:  19\n",
      "<class 'list'>\n",
      "El tamaño de la lista es:  40\n",
      "El valor maximo que se tienes es:  93\n",
      "El valor minimo que se tiene es:  1\n",
      "Al triplicar la lista se obtiene\n",
      ": [90, 88, 84, 80, 78, 76, 72, 70, 52, 50, 48, 42, 38, 36, 34, 32, 26, 22, 12, 10, 4, 1, 3, 7, 11, 15, 19, 21, 43, 45, 57, 59, 63, 75, 79, 81, 85, 87, 89, 93, 90, 88, 84, 80, 78, 76, 72, 70, 52, 50, 48, 42, 38, 36, 34, 32, 26, 22, 12, 10, 4, 1, 3, 7, 11, 15, 19, 21, 43, 45, 57, 59, 63, 75, 79, 81, 85, 87, 89, 93, 90, 88, 84, 80, 78, 76, 72, 70, 52, 50, 48, 42, 38, 36, 34, 32, 26, 22, 12, 10, 4, 1, 3, 7, 11, 15, 19, 21, 43, 45, 57, 59, 63, 75, 79, 81, 85, 87, 89, 93]\n",
      "[90, 88, 84, 80, 78, 76, 72, 70, 52, 50, 48, 42, 38, 36, 34, 32, 26, 22, 12, 10, 4, 1, 3, 7, 11, 15, 19, 21, 43, 45, 57, 59, 63, 75, 79, 81, 85, 87, 89, 93]\n",
      "Al seccionar la lista entre el dato 7 y el 12 es:  [72, 70, 52, 50, 48, 42]\n"
     ]
    }
   ],
   "source": [
    "import random as r\n",
    "def Identificacion(lista):\n",
    "    par = []\n",
    "    impar = []\n",
    "    for i in range(len(lista)):\n",
    "        if lista[i]%2 == 0:\n",
    "            par.append(lista[i])\n",
    "        else:\n",
    "            impar.append(lista[i])\n",
    "    return par, impar\n",
    "numeros = r.sample(range(1,100),40)\n",
    "a = Identificacion(numeros)\n",
    "lp = len(a[0])\n",
    "li = len(a[1])\n",
    "print(\"La longitud de pares es: \",lp,\"\\nLa longitud de impares es: \",li)\n",
    "a[0].sort(reverse=True)\n",
    "a[1].sort()\n",
    "lista = []\n",
    "for i in range(len(a)):\n",
    "    for j in range(len(a[i])):\n",
    "        lista.append(a[i][j])\n",
    "#funciones de listas\n",
    "print(type(lista))\n",
    "print(\"El tamaño de la lista es: \",len(lista))\n",
    "print(\"El valor maximo que se tienes es: \", max(lista))\n",
    "print(\"El valor minimo que se tiene es: \", min(lista))\n",
    "produc = lista*3\n",
    "print(\"Al triplicar la lista se obtiene\\n:\", produc)\n",
    "print(lista)\n",
    "print(\"Al seccionar la lista entre el dato 7 y el 12 es: \",lista[6:12])"
   ]
  },
  {
   "cell_type": "markdown",
   "id": "stupid-arena",
   "metadata": {},
   "source": [
    "## EJEMPLOS CON DICCIONARIOS\n",
    "1.- Crear un diccionario de 6 personas que conozcas con su primer nombre y su edad.\n",
    "\n",
    "2.- Crear una lista con los valores de la edad y reacomodar la lista de menor a mayor valor.\n",
    "\n",
    "3.- Usando el diccionario y un loop, imprimir solo los nombres.\n",
    "\n",
    "4.- Añadir dos personas nuevas a tu diccionario, incluyendo edad."
   ]
  },
  {
   "cell_type": "code",
   "execution_count": null,
   "id": "human-sunglasses",
   "metadata": {},
   "outputs": [],
   "source": [
    "diccionario = {'Nombre': ['Aaron','Emmanuel','Arnulfo','Ximena','Alejandra','Debanhi'], 'Edad':[22,21,24,26,1,20]}\n",
    "lista = diccionario['Edad']\n",
    "lista.sort()\n",
    "for x in range(len(diccionario['Nombre'])):\n",
    "    print(diccionario['Nombre'][x])"
   ]
  },
  {
   "cell_type": "markdown",
   "id": "together-blowing",
   "metadata": {},
   "source": [
    "## EJERCICIOS SETS\n",
    "1.- Crea un set con 100 numeros aleatorios enteros del 1 al 25.\n",
    "\n",
    "2.- Comprueba la longitud de tu set.\n",
    "\n",
    "3.- Crea una lista de 5 numeros aleatorios del 1 al 10 y comprueba si cada valor aparece en el set inicial.\n",
    "\n"
   ]
  },
  {
   "cell_type": "code",
   "execution_count": 227,
   "id": "elegant-debut",
   "metadata": {},
   "outputs": [
    {
     "name": "stdout",
     "output_type": "stream",
     "text": [
      "{1, 2, 3, 4, 5, 6, 7, 8, 9, 10, 11, 12, 13, 14, 15, 16, 17, 18, 19, 20, 21, 22, 23, 24, 25}\n",
      "La longitud del set es:  25\n",
      "[8, 6, 7, 2, 5]\n",
      "True\n",
      "True\n",
      "True\n",
      "True\n",
      "True\n"
     ]
    }
   ],
   "source": [
    "set1 = set()\n",
    "i=0\n",
    "while i < 100:\n",
    "    set1.add(r.randint(1,25))\n",
    "    i = i+1\n",
    "print(set1)\n",
    "len(set1)\n",
    "print(\"La longitud del set es: \",(len(set1)))\n",
    "\n",
    "lista = (r.sample(range(1,11),5))\n",
    "print(lista)\n",
    "\n",
    "for x in range(len(lista)):\n",
    "    print(x+1 in set1)"
   ]
  }
 ],
 "metadata": {
  "kernelspec": {
   "display_name": "Python 3",
   "language": "python",
   "name": "python3"
  },
  "language_info": {
   "codemirror_mode": {
    "name": "ipython",
    "version": 3
   },
   "file_extension": ".py",
   "mimetype": "text/x-python",
   "name": "python",
   "nbconvert_exporter": "python",
   "pygments_lexer": "ipython3",
   "version": "3.8.5"
  }
 },
 "nbformat": 4,
 "nbformat_minor": 5
}
