{
 "cells": [
  {
   "cell_type": "markdown",
   "id": "legendary-republic",
   "metadata": {},
   "source": [
    "# Ejemplo de un árbol de decisión"
   ]
  },
  {
   "cell_type": "code",
   "execution_count": null,
   "id": "stupid-processing",
   "metadata": {},
   "outputs": [],
   "source": [
    "from sklearn.tree import DecisionTreeClassifier #Clasificador del arbol\n",
    "from sklearn.model_selection import train_test_split\n",
    "from sklearn.datasets import load_iris #Se importa el set de datos a trabajar\n",
    "# Para graficar el arbol \n",
    "from sklearn.tree import export_graphviz\n",
    "import graphviz\n",
    "import matplotlib.pyplot as plt\n",
    "import numpy as np"
   ]
  },
  {
   "cell_type": "code",
   "execution_count": null,
   "id": "obvious-timothy",
   "metadata": {},
   "outputs": [],
   "source": [
    "data = load_iris() #Set de datos en una variable"
   ]
  },
  {
   "cell_type": "code",
   "execution_count": null,
   "id": "alive-uncle",
   "metadata": {},
   "outputs": [],
   "source": [
    "# Creamos las variables de de prueba y las variables que entrenaran al arbol\n",
    "X_ent, x_test, Y_ent, y_test = train_test_split(data.data,data.target) "
   ]
  },
  {
   "cell_type": "code",
   "execution_count": null,
   "id": "extensive-bahrain",
   "metadata": {},
   "outputs": [],
   "source": [
    "# Se construye el arbol a aprtir de los datos de entrenamiento\n",
    "arbol = DecisionTreeClassifier()\n",
    "arbol.fit(X_ent,Y_ent)"
   ]
  },
  {
   "cell_type": "code",
   "execution_count": null,
   "id": "mighty-nickel",
   "metadata": {},
   "outputs": [],
   "source": [
    "# Se visualiza la probabilidad de prediccion del arbol con los datos de prueba\n",
    "arbol.score(x_test,y_test)"
   ]
  },
  {
   "cell_type": "code",
   "execution_count": null,
   "id": "robust-requirement",
   "metadata": {},
   "outputs": [],
   "source": [
    "# Se visualiza la probabilidad de prediccion del arbol con los datos de entrenamiento\n",
    "arbol.score(X_ent,Y_ent)"
   ]
  },
  {
   "cell_type": "code",
   "execution_count": null,
   "id": "stylish-facility",
   "metadata": {},
   "outputs": [],
   "source": [
    "#Se secciona la informacion que tenemos del arbol para poder generar un archivo que nos ayude a visualizar el arbol\n",
    "export_graphviz(arbol, out_file = \"arbol.dot\", class_names = data.target_names,feature_names = data.feature_names, impurity = False, filled = True)\n",
    "# Visualizamos el arbol\n",
    "with open(\"arbol.dot\") as ad:\n",
    "    dot_graph = ad.read()\n",
    "graphviz.Source(dot_graph)"
   ]
  },
  {
   "cell_type": "code",
   "execution_count": null,
   "id": "human-collins",
   "metadata": {},
   "outputs": [],
   "source": [
    "# Importancia de las caracteristicas para ayudar a definir\n",
    "signf = data.data.shape[1]\n",
    "plt.barh(range(signf),arbol.feature_importances_)\n",
    "plt.yticks(np.arange(signf),data.feature_names)\n",
    "plt.xlabel(\"Importancia de las características\")\n",
    "plt.ylabel(\"Características\")\n",
    "plt.show()"
   ]
  },
  {
   "cell_type": "code",
   "execution_count": null,
   "id": "liberal-adjustment",
   "metadata": {},
   "outputs": [],
   "source": [
    "clases = 3\n",
    "plot_colors = \"bry\"\n",
    "plot_step = 0.02\n",
    "\n",
    "for pairidx, pair in enumerate([[0,1],[0,2],[0,3],[1,2],[1,3],[2,3]]):\n",
    "    x = data.data[:,pair]\n",
    "    y= data.target\n",
    "    \n",
    "    clf = DecisionTreeClassifier().fit(x,y)\n",
    "    plt.subplot(2,3,pairidx + 1 )\n",
    "    xmin = x[:, 0].min() - 1\n",
    "    ymin = x[:, 1].min() - 1\n",
    "    xmax = x[:, 0].max() + 1\n",
    "    ymax = x[:, 1].max() + 1\n",
    "    xl, yl = np.meshgrid(np.arange(xmin,xmax,plot_step),np.arange(ymin,ymax,plot_step))\n",
    "    plano = clf.predict(np.c_[xl.ravel(),yl.ravel()])\n",
    "    plano1 = plano.reshape(xl.shape)\n",
    "    cs = plt.contour(xl, yl, plano1, cmap = plt.cm.Paired )\n",
    "    \n",
    "    plt.xlabel(data.feature_names[pair[0]])\n",
    "    plt.ylabel(data.feature_names[pair[1]])\n",
    "    plt.axis(\"tight\")\n",
    "    \n",
    "    for i, color in zip(range(clases), plot_colors):\n",
    "        idx = np.where (y == i)\n",
    "        plt.scatter(x[idx,0],x[idx,1], c = color, label = data.target_names[i], cmap = plt.cm.Paired)\n",
    "    plt.axis(\"tight\")\n",
    " \n",
    "plt.legend()\n",
    "plt.show"
   ]
  },
  {
   "cell_type": "code",
   "execution_count": null,
   "id": "noticed-prediction",
   "metadata": {},
   "outputs": [],
   "source": [
    "#Se visualiza la profundidad que tiene el arbol\n",
    "arbol.tree_.max_depth"
   ]
  },
  {
   "cell_type": "code",
   "execution_count": null,
   "id": "previous-travel",
   "metadata": {},
   "outputs": [],
   "source": [
    "# Se crea un nuevo arbol con otra profundidad para evitar el sobre ajuste\n",
    "arbol = DecisionTreeClassifier(max_depth = 3)"
   ]
  },
  {
   "cell_type": "code",
   "execution_count": null,
   "id": "described-isolation",
   "metadata": {},
   "outputs": [],
   "source": [
    "arbol.fit(X_ent,Y_ent)"
   ]
  },
  {
   "cell_type": "code",
   "execution_count": null,
   "id": "frank-aspect",
   "metadata": {},
   "outputs": [],
   "source": [
    "arbol.score(x_test, y_test)"
   ]
  },
  {
   "cell_type": "code",
   "execution_count": null,
   "id": "lasting-moore",
   "metadata": {},
   "outputs": [],
   "source": [
    "arbol.score(X_ent,Y_ent)"
   ]
  },
  {
   "cell_type": "code",
   "execution_count": null,
   "id": "chicken-voice",
   "metadata": {},
   "outputs": [],
   "source": [
    "# Se genera la visualizacion del arbol nuevamente\n",
    "export_graphviz(arbol, out_file = \"arbol.dot\", class_names = data.target_names,feature_names = data.feature_names, impurity = False, filled = True)\n",
    "\n",
    "with open(\"arbol.dot\") as ad:\n",
    "    dot_graph = ad.read()\n",
    "graphviz.Source(dot_graph)"
   ]
  },
  {
   "cell_type": "code",
   "execution_count": null,
   "id": "restricted-consolidation",
   "metadata": {},
   "outputs": [],
   "source": [
    "clases = 3\n",
    "plot_colors = \"bry\"\n",
    "plot_step = 0.02\n",
    "\n",
    "for pairidx, pair in enumerate([[0,1],[0,2],[0,3],[1,2],[1,3],[2,3]]):\n",
    "    x = data.data[:,pair]\n",
    "    y= data.target\n",
    "    \n",
    "    clf = DecisionTreeClassifier(max_depth = 3).fit(x,y)\n",
    "    plt.subplot(2,3,pairidx + 1 )\n",
    "    xmin = x[:, 0].min() - 1\n",
    "    ymin = x[:, 1].min() - 1\n",
    "    xmax = x[:, 0].max() + 1\n",
    "    ymax = x[:, 1].max() + 1\n",
    "    xl, yl = np.meshgrid(np.arange(xmin,xmax,plot_step),np.arange(ymin,ymax,plot_step))\n",
    "    plano = clf.predict(np.c_[xl.ravel(),yl.ravel()])\n",
    "    plano1 = plano.reshape(xl.shape)\n",
    "    cs = plt.contour(xl, yl, plano1, cmap = plt.cm.Paired )\n",
    "    \n",
    "    plt.xlabel(data.feature_names[pair[0]])\n",
    "    plt.ylabel(data.feature_names[pair[1]])\n",
    "    plt.axis(\"tight\")\n",
    "    \n",
    "    for i, color in zip(range(clases), plot_colors):\n",
    "        idx = np.where (y == i)\n",
    "        plt.scatter(x[idx,0],x[idx,1], c = color, label = data.target_names[i], cmap = plt.cm.Paired)\n",
    "    plt.axis(\"tight\")\n",
    "\n",
    "plt.suptitle(\"Clasificador de Iris\")\n",
    "plt.legend()\n",
    "plt.show"
   ]
  }
 ],
 "metadata": {
  "kernelspec": {
   "display_name": "Python 3",
   "language": "python",
   "name": "python3"
  },
  "language_info": {
   "codemirror_mode": {
    "name": "ipython",
    "version": 3
   },
   "file_extension": ".py",
   "mimetype": "text/x-python",
   "name": "python",
   "nbconvert_exporter": "python",
   "pygments_lexer": "ipython3",
   "version": "3.8.5"
  }
 },
 "nbformat": 4,
 "nbformat_minor": 5
}
